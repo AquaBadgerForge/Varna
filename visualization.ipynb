{
 "cells": [
  {
   "cell_type": "code",
   "execution_count": 18,
   "id": "6d97d4a5-5829-4e83-9a52-dda352af238d",
   "metadata": {},
   "outputs": [
    {
     "ename": "LoadError",
     "evalue": "IOError: could not spawn setenv(`7z.exe x 'C:\\Users\\ABE\\.julia\\registries\\General.tar.gz' -so`,[\"WINDIR=C:\\\\WINDOWS\", \"PATH=C:\\\\Users\\\\ABE\\\\.julia\\\\juliaup\\\\julia-1.10.2+0.x64.w64.mingw32\\\\bin\\\\..\\\\lib\\\\julia;C:\\\\Users\\\\ABE\\\\.julia\\\\juliaup\\\\julia-1.10.2+0.x64.w64.mingw32\\\\bin\\\\..\\\\lib;C:\\\\Users\\\\ABE\\\\.julia\\\\conda\\\\3\\\\x86_64\\\\Library\\\\bin;C:\\\\Users\\\\ABE\\\\.julia\\\\conda\\\\3\\\\x86_64\\\\Scripts;C:\\\\Program Files\\\\Eclipse Adoptium\\\\jdk-17.0.6.10-hotspot\\\\bin;C:\\\\WINDOWS\\\\system32;C:\\\\WINDOWS;C:\\\\WINDOWS\\\\System32\\\\Wbem;C:\\\\WINDOWS\\\\System32\\\\WindowsPowerShell\\\\v1.0\\\\;C:\\\\WINDOWS\\\\System32\\\\OpenSSH\\\\;C:\\\\Users\\\\ABE\\\\AppData\\\\Local\\\\Microsoft\\\\WindowsApps;C:\\\\Users\\\\ABE\\\\AppData\\\\Local\\\\Programs\\\\snap\\\\bin;C:\\\\Users\\\\ABE\\\\AppData\\\\Local\\\\Programs\\\\Microsoft VS Code\\\\bin;C:\\\\Users\\\\ABE\\\\AppData\\\\Local\\\\GitHubDesktop\\\\bin;C:\\\\Users\\\\ABE\\\\AppData\\\\Local\\\\Programs\\\\Git\\\\cmd\", \"USERDOMAIN_ROAMINGPROFILE=NIVA\", \"WSLENV=WT_SESSION:WT_PROFILE_ID:\", \"ZES_ENABLE_SYSMAN=1\", \"JPY_INTERRUPT_EVENT=1824\", \"LOCALAPPDATA=C:\\\\Users\\\\ABE\\\\AppData\\\\Local\", \"HOMEPATH=\\\\Users\\\\ABE\", \"PROCESSOR_IDENTIFIER=Intel64 Family 6 Model 154 Stepping 4, GenuineIntel\", \"NUMBER_OF_PROCESSORS=12\", \"PATHEXT=.COM;.EXE;.BAT;.CMD;.VBS;.VBE;.JS;.JSE;.WSF;.WSH;.MSC;.CPL\", \"SESSIONNAME=Console\", \"SYSTEMROOT=C:\\\\WINDOWS\", \"APPDATA=C:\\\\Users\\\\ABE\\\\AppData\\\\Roaming\", \"PSMODULEPATH=\\\\\\\\niva-of5\\\\osl-userdata\\$\\\\ABE\\\\Documents\\\\WindowsPowerShell\\\\Modules;C:\\\\Program Files\\\\WindowsPowerShell\\\\Modules;C:\\\\WINDOWS\\\\system32\\\\WindowsPowerShell\\\\v1.0\\\\Modules\", \"COMMONPROGRAMW6432=C:\\\\Program Files\\\\Common Files\", \"PROGRAMDATA=C:\\\\ProgramData\", \"PUBLIC=C:\\\\Users\\\\Public\", \"USERDOMAIN=NIVA\", \"OS=Windows_NT\", \"PROCESSOR_REVISION=9a04\", \"TMP=C:\\\\Users\\\\ABE\\\\AppData\\\\Local\\\\Temp\", \"SNOW_AGENT=C:\\\\Program Files\\\\Snow Software\\\\Inventory\\\\Agent\", \"FONTCONFIG_FILE=C:\\\\Users\\\\ABE\\\\.julia\\\\artifacts\\\\ccc2c196c08c418da98521a2b81e3fdb0cbd33d5\\\\etc\\\\fonts\\\\fonts.conf\", \"ONEDRIVECOMMERCIAL=C:\\\\Users\\\\ABE\\\\OneDrive - NIVA\", \"COMMONPROGRAMFILES(X86)=C:\\\\Program Files (x86)\\\\Common Files\", \"COMSPEC=C:\\\\WINDOWS\\\\system32\\\\cmd.exe\", \"OPENBLAS_DEFAULT_NUM_THREADS=1\", \"UCX_MEMTYPE_CACHE=no\", \"UCX_ERROR_SIGNALS=SIGILL,SIGBUS,SIGFPE\", \"VBOX_MSI_INSTALL_PATH=C:\\\\Program Files\\\\Oracle\\\\VirtualBox\\\\\", \"UATDATA=C:\\\\WINDOWS\\\\CCM\\\\UATData\\\\D9F8C395-CAB8-491d-B8AC-179A1FE1BE77\", \"ALLUSERSPROFILE=C:\\\\ProgramData\", \"WT_PROFILE_ID={61c54bbd-c2c6-5271-96e7-009a87ff44bf}\", \"COMMONPROGRAMFILES=C:\\\\Program Files\\\\Common Files\", \"COMPUTERNAME=2XJ5QL3-L\", \"JAVA_HOME=C:\\\\Program Files\\\\Eclipse Adoptium\\\\jdk-17.0.6.10-hotspot\\\\\", \"ONEDRIVE=C:\\\\Users\\\\ABE\\\\OneDrive - NIVA\", \"USERNAME=ABE\", \"JPY_SESSION_NAME=C:\\\\Users\\\\ABE\\\\OneDrive\\\\scripts\\\\Julia_scripts\\\\OceanBioME.jl\\\\examples\\\\Varna\\\\Untitled.ipynb\", \"COLUMNS=80\", \"WT_SESSION=805820ef-47b7-43a6-976a-c3eb0273f2ef\", \"IPY_INTERRUPT_EVENT=1824\", \"PROGRAMFILES(X86)=C:\\\\Program Files (x86)\", \"GIT_PYTHON_REFRESH=quiet\", \"PROGRAMFILES=C:\\\\Program Files\", \"JPY_PARENT_PID=4400\", \"CONDARC=C:\\\\Users\\\\ABE\\\\.julia\\\\conda\\\\3\\\\x86_64\\\\condarc-julia.yml\", \"LOGONSERVER=\\\\\\\\ADC-1\", \"ONEDRIVECONSUMER=C:\\\\Users\\\\ABE\\\\OneDrive\", \"USERPROFILE=C:\\\\Users\\\\ABE\", \"DRIVERDATA=C:\\\\Windows\\\\System32\\\\Drivers\\\\DriverData\", \"FONTCONFIG_PATH=C:\\\\Users\\\\ABE\\\\.julia\\\\artifacts\\\\ccc2c196c08c418da98521a2b81e3fdb0cbd33d5\\\\etc\\\\fonts\", \"CONDA_PREFIX=C:\\\\Users\\\\ABE\\\\.julia\\\\conda\\\\3\\\\x86_64\", \"PROCESSOR_LEVEL=6\", \"SYSTEMDRIVE=C:\", \"LINES=30\", \"USERDNSDOMAIN=NIVA.CORP\", \"PROGRAMW6432=C:\\\\Program Files\", \"IGCCSVC_DB=AQAAANCMnd8BFdERjHoAwE/Cl+sBAAAAjQK402Wg/06mbS0Leut9BwQAAAACAAAAAAAQZgAAAAEAACAAAAAflJQp+pWr7GqtQlwQXliLDA8+WgL0VOWf55npTTlcgwAAAAAOgAAAAAIAACAAAAAnSQDVgc/pWiqBR3iprjBIU3PFduBaa9aQPVSMg1fL3GAAAABm2PvuJasMifg9gqKGLkVJQH5ea9Sc73zFktX7X0SpSvq61umUqJTS2+wJ95jOgCb57KTYGdcQdUZNHFDLc+PYkk777Gj/1L2Dbu7VOnbKcfrLNEEfIc0atLLfDnYOivRAAAAAJNGspFVz/s6SvhwhTi+Pa0+ZUdeeteIZblTf3coMzOb1w7BDAbFjnUQ7Zf1YvWl+6p7NE1bUGu1OZ5qVMip9JA==\", \"HOMEDRIVE=C:\", \"OPENBLAS_MAIN_FREE=1\", \"PROCESSOR_ARCHITECTURE=AMD64\", \"PYTHONIOENCODING=UTF-8\", \"TEMP=C:\\\\Users\\\\ABE\\\\AppData\\\\Local\\\\Temp\"]): no such file or directory (ENOENT)",
     "output_type": "error",
     "traceback": [
      "IOError: could not spawn setenv(`7z.exe x 'C:\\Users\\ABE\\.julia\\registries\\General.tar.gz' -so`,[\"WINDIR=C:\\\\WINDOWS\", \"PATH=C:\\\\Users\\\\ABE\\\\.julia\\\\juliaup\\\\julia-1.10.2+0.x64.w64.mingw32\\\\bin\\\\..\\\\lib\\\\julia;C:\\\\Users\\\\ABE\\\\.julia\\\\juliaup\\\\julia-1.10.2+0.x64.w64.mingw32\\\\bin\\\\..\\\\lib;C:\\\\Users\\\\ABE\\\\.julia\\\\conda\\\\3\\\\x86_64\\\\Library\\\\bin;C:\\\\Users\\\\ABE\\\\.julia\\\\conda\\\\3\\\\x86_64\\\\Scripts;C:\\\\Program Files\\\\Eclipse Adoptium\\\\jdk-17.0.6.10-hotspot\\\\bin;C:\\\\WINDOWS\\\\system32;C:\\\\WINDOWS;C:\\\\WINDOWS\\\\System32\\\\Wbem;C:\\\\WINDOWS\\\\System32\\\\WindowsPowerShell\\\\v1.0\\\\;C:\\\\WINDOWS\\\\System32\\\\OpenSSH\\\\;C:\\\\Users\\\\ABE\\\\AppData\\\\Local\\\\Microsoft\\\\WindowsApps;C:\\\\Users\\\\ABE\\\\AppData\\\\Local\\\\Programs\\\\snap\\\\bin;C:\\\\Users\\\\ABE\\\\AppData\\\\Local\\\\Programs\\\\Microsoft VS Code\\\\bin;C:\\\\Users\\\\ABE\\\\AppData\\\\Local\\\\GitHubDesktop\\\\bin;C:\\\\Users\\\\ABE\\\\AppData\\\\Local\\\\Programs\\\\Git\\\\cmd\", \"USERDOMAIN_ROAMINGPROFILE=NIVA\", \"WSLENV=WT_SESSION:WT_PROFILE_ID:\", \"ZES_ENABLE_SYSMAN=1\", \"JPY_INTERRUPT_EVENT=1824\", \"LOCALAPPDATA=C:\\\\Users\\\\ABE\\\\AppData\\\\Local\", \"HOMEPATH=\\\\Users\\\\ABE\", \"PROCESSOR_IDENTIFIER=Intel64 Family 6 Model 154 Stepping 4, GenuineIntel\", \"NUMBER_OF_PROCESSORS=12\", \"PATHEXT=.COM;.EXE;.BAT;.CMD;.VBS;.VBE;.JS;.JSE;.WSF;.WSH;.MSC;.CPL\", \"SESSIONNAME=Console\", \"SYSTEMROOT=C:\\\\WINDOWS\", \"APPDATA=C:\\\\Users\\\\ABE\\\\AppData\\\\Roaming\", \"PSMODULEPATH=\\\\\\\\niva-of5\\\\osl-userdata\\$\\\\ABE\\\\Documents\\\\WindowsPowerShell\\\\Modules;C:\\\\Program Files\\\\WindowsPowerShell\\\\Modules;C:\\\\WINDOWS\\\\system32\\\\WindowsPowerShell\\\\v1.0\\\\Modules\", \"COMMONPROGRAMW6432=C:\\\\Program Files\\\\Common Files\", \"PROGRAMDATA=C:\\\\ProgramData\", \"PUBLIC=C:\\\\Users\\\\Public\", \"USERDOMAIN=NIVA\", \"OS=Windows_NT\", \"PROCESSOR_REVISION=9a04\", \"TMP=C:\\\\Users\\\\ABE\\\\AppData\\\\Local\\\\Temp\", \"SNOW_AGENT=C:\\\\Program Files\\\\Snow Software\\\\Inventory\\\\Agent\", \"FONTCONFIG_FILE=C:\\\\Users\\\\ABE\\\\.julia\\\\artifacts\\\\ccc2c196c08c418da98521a2b81e3fdb0cbd33d5\\\\etc\\\\fonts\\\\fonts.conf\", \"ONEDRIVECOMMERCIAL=C:\\\\Users\\\\ABE\\\\OneDrive - NIVA\", \"COMMONPROGRAMFILES(X86)=C:\\\\Program Files (x86)\\\\Common Files\", \"COMSPEC=C:\\\\WINDOWS\\\\system32\\\\cmd.exe\", \"OPENBLAS_DEFAULT_NUM_THREADS=1\", \"UCX_MEMTYPE_CACHE=no\", \"UCX_ERROR_SIGNALS=SIGILL,SIGBUS,SIGFPE\", \"VBOX_MSI_INSTALL_PATH=C:\\\\Program Files\\\\Oracle\\\\VirtualBox\\\\\", \"UATDATA=C:\\\\WINDOWS\\\\CCM\\\\UATData\\\\D9F8C395-CAB8-491d-B8AC-179A1FE1BE77\", \"ALLUSERSPROFILE=C:\\\\ProgramData\", \"WT_PROFILE_ID={61c54bbd-c2c6-5271-96e7-009a87ff44bf}\", \"COMMONPROGRAMFILES=C:\\\\Program Files\\\\Common Files\", \"COMPUTERNAME=2XJ5QL3-L\", \"JAVA_HOME=C:\\\\Program Files\\\\Eclipse Adoptium\\\\jdk-17.0.6.10-hotspot\\\\\", \"ONEDRIVE=C:\\\\Users\\\\ABE\\\\OneDrive - NIVA\", \"USERNAME=ABE\", \"JPY_SESSION_NAME=C:\\\\Users\\\\ABE\\\\OneDrive\\\\scripts\\\\Julia_scripts\\\\OceanBioME.jl\\\\examples\\\\Varna\\\\Untitled.ipynb\", \"COLUMNS=80\", \"WT_SESSION=805820ef-47b7-43a6-976a-c3eb0273f2ef\", \"IPY_INTERRUPT_EVENT=1824\", \"PROGRAMFILES(X86)=C:\\\\Program Files (x86)\", \"GIT_PYTHON_REFRESH=quiet\", \"PROGRAMFILES=C:\\\\Program Files\", \"JPY_PARENT_PID=4400\", \"CONDARC=C:\\\\Users\\\\ABE\\\\.julia\\\\conda\\\\3\\\\x86_64\\\\condarc-julia.yml\", \"LOGONSERVER=\\\\\\\\ADC-1\", \"ONEDRIVECONSUMER=C:\\\\Users\\\\ABE\\\\OneDrive\", \"USERPROFILE=C:\\\\Users\\\\ABE\", \"DRIVERDATA=C:\\\\Windows\\\\System32\\\\Drivers\\\\DriverData\", \"FONTCONFIG_PATH=C:\\\\Users\\\\ABE\\\\.julia\\\\artifacts\\\\ccc2c196c08c418da98521a2b81e3fdb0cbd33d5\\\\etc\\\\fonts\", \"CONDA_PREFIX=C:\\\\Users\\\\ABE\\\\.julia\\\\conda\\\\3\\\\x86_64\", \"PROCESSOR_LEVEL=6\", \"SYSTEMDRIVE=C:\", \"LINES=30\", \"USERDNSDOMAIN=NIVA.CORP\", \"PROGRAMW6432=C:\\\\Program Files\", \"IGCCSVC_DB=AQAAANCMnd8BFdERjHoAwE/Cl+sBAAAAjQK402Wg/06mbS0Leut9BwQAAAACAAAAAAAQZgAAAAEAACAAAAAflJQp+pWr7GqtQlwQXliLDA8+WgL0VOWf55npTTlcgwAAAAAOgAAAAAIAACAAAAAnSQDVgc/pWiqBR3iprjBIU3PFduBaa9aQPVSMg1fL3GAAAABm2PvuJasMifg9gqKGLkVJQH5ea9Sc73zFktX7X0SpSvq61umUqJTS2+wJ95jOgCb57KTYGdcQdUZNHFDLc+PYkk777Gj/1L2Dbu7VOnbKcfrLNEEfIc0atLLfDnYOivRAAAAAJNGspFVz/s6SvhwhTi+Pa0+ZUdeeteIZblTf3coMzOb1w7BDAbFjnUQ7Zf1YvWl+6p7NE1bUGu1OZ5qVMip9JA==\", \"HOMEDRIVE=C:\", \"OPENBLAS_MAIN_FREE=1\", \"PROCESSOR_ARCHITECTURE=AMD64\", \"PYTHONIOENCODING=UTF-8\", \"TEMP=C:\\\\Users\\\\ABE\\\\AppData\\\\Local\\\\Temp\"]): no such file or directory (ENOENT)",
      "",
      "Stacktrace:",
      "  [1] _spawn_primitive(file::String, cmd::Cmd, stdio::Vector{Union{RawFD, Base.Libc.WindowsRawSocket, IO}})",
      "    @ Base .\\process.jl:128",
      "  [2] #784",
      "    @ .\\process.jl:139 [inlined]",
      "  [3] setup_stdios(f::Base.var\"#784#785\"{Cmd}, stdios::Vector{Union{RawFD, Base.Libc.WindowsRawSocket, IO}})",
      "    @ Base .\\process.jl:223",
      "  [4] _spawn",
      "    @ .\\process.jl:138 [inlined]",
      "  [5] open(cmds::Cmd, stdio::Base.DevNull; write::Bool, read::Bool)",
      "    @ Base .\\process.jl:393",
      "  [6] open (repeats 2 times)",
      "    @ .\\process.jl:383 [inlined]",
      "  [7] open(::Pkg.Registry.var\"#19#22\"{IOBuffer, Vector{UInt8}, Dict{String, String}}, ::Cmd; kwargs::@Kwargs{})",
      "    @ Base .\\process.jl:415",
      "  [8] open",
      "    @ .\\process.jl:414 [inlined]",
      "  [9] uncompress_registry(tar_gz::String)",
      "    @ Pkg.Registry C:\\Users\\ABE\\.julia\\juliaup\\julia-1.10.2+0.x64.w64.mingw32\\share\\julia\\stdlib\\v1.10\\Pkg\\src\\Registry\\registry_instance.jl:261",
      " [10] Pkg.Registry.RegistryInstance(path::String)",
      "    @ Pkg.Registry C:\\Users\\ABE\\.julia\\juliaup\\julia-1.10.2+0.x64.w64.mingw32\\share\\julia\\stdlib\\v1.10\\Pkg\\src\\Registry\\registry_instance.jl:328",
      " [11] reachable_registries(; depots::Vector{String})",
      "    @ Pkg.Registry C:\\Users\\ABE\\.julia\\juliaup\\julia-1.10.2+0.x64.w64.mingw32\\share\\julia\\stdlib\\v1.10\\Pkg\\src\\Registry\\registry_instance.jl:434",
      " [12] reachable_registries",
      "    @ C:\\Users\\ABE\\.julia\\juliaup\\julia-1.10.2+0.x64.w64.mingw32\\share\\julia\\stdlib\\v1.10\\Pkg\\src\\Registry\\registry_instance.jl:404 [inlined]",
      " [13] Pkg.Types.Context()",
      "    @ Pkg.Types C:\\Users\\ABE\\.julia\\juliaup\\julia-1.10.2+0.x64.w64.mingw32\\share\\julia\\stdlib\\v1.10\\Pkg\\src\\Types.jl:406",
      " [14] precompile(pkgs::Vector{Pkg.Types.PackageSpec}; io::IJulia.IJuliaStdio{Base.PipeEndpoint}, kwargs::@Kwargs{_from_loading::Bool})",
      "    @ Pkg.API C:\\Users\\ABE\\.julia\\juliaup\\julia-1.10.2+0.x64.w64.mingw32\\share\\julia\\stdlib\\v1.10\\Pkg\\src\\API.jl:150",
      " [15] precompile",
      "    @ C:\\Users\\ABE\\.julia\\juliaup\\julia-1.10.2+0.x64.w64.mingw32\\share\\julia\\stdlib\\v1.10\\Pkg\\src\\API.jl:147 [inlined]",
      " [16] #precompile#114",
      "    @ C:\\Users\\ABE\\.julia\\juliaup\\julia-1.10.2+0.x64.w64.mingw32\\share\\julia\\stdlib\\v1.10\\Pkg\\src\\API.jl:146 [inlined]",
      " [17] #invokelatest#2",
      "    @ .\\essentials.jl:894 [inlined]",
      " [18] invokelatest",
      "    @ .\\essentials.jl:889 [inlined]",
      " [19] _require(pkg::Base.PkgId, env::String)",
      "    @ Base .\\loading.jl:1963",
      " [20] __require_prelocked(uuidkey::Base.PkgId, env::String)",
      "    @ Base .\\loading.jl:1812",
      " [21] #invoke_in_world#3",
      "    @ .\\essentials.jl:926 [inlined]",
      " [22] invoke_in_world",
      "    @ .\\essentials.jl:923 [inlined]",
      " [23] _require_prelocked(uuidkey::Base.PkgId, env::String)",
      "    @ Base .\\loading.jl:1803",
      " [24] macro expansion",
      "    @ .\\loading.jl:1790 [inlined]",
      " [25] macro expansion",
      "    @ .\\lock.jl:267 [inlined]",
      " [26] __require(into::Module, mod::Symbol)",
      "    @ Base .\\loading.jl:1753",
      " [27] #invoke_in_world#3",
      "    @ .\\essentials.jl:926 [inlined]",
      " [28] invoke_in_world",
      "    @ .\\essentials.jl:923 [inlined]",
      " [29] require(into::Module, mod::Symbol)",
      "    @ Base .\\loading.jl:1746"
     ]
    }
   ],
   "source": [
    "using GLMakie\n",
    "using JLD2\n",
    "using Oceananigans"
   ]
  },
  {
   "cell_type": "code",
   "execution_count": 9,
   "id": "34ab6d34-779d-4564-86d9-fb0917d7f26f",
   "metadata": {},
   "outputs": [
    {
     "data": {
      "text/plain": [
       "20"
      ]
     },
     "execution_count": 9,
     "metadata": {},
     "output_type": "execute_result"
    }
   ],
   "source": [
    "Nx = 119\n",
    "Ny = 42\n",
    "Nz = 20"
   ]
  },
  {
   "cell_type": "code",
   "execution_count": 12,
   "id": "597179bd-b15b-467d-95d9-e7193589fe7f",
   "metadata": {},
   "outputs": [
    {
     "data": {
      "text/plain": [
       "\"exp3_out-Copy1.jld2\""
      ]
     },
     "execution_count": 12,
     "metadata": {},
     "output_type": "execute_result"
    }
   ],
   "source": [
    "fname = \"exp3_out-Copy1.jld2\""
   ]
  },
  {
   "cell_type": "code",
   "execution_count": 13,
   "id": "4dc36d03-767e-44a8-895a-b5c282a89fb1",
   "metadata": {},
   "outputs": [
    {
     "data": {
      "text/plain": [
       "119×42×20×2 FieldTimeSeries{InMemory} located at (Center, Center, Center) of S at exp3_out-Copy1.jld2\n",
       "├── grid: 119×42×20 ImmersedBoundaryGrid{Float64, Bounded, Bounded, Bounded} on CPU with 7×7×7 halo\n",
       "├── indices: (:, :, :)\n",
       "├── time_indexing: Linear()\n",
       "├── backend: InMemory()\n",
       "├── path: exp3_out-Copy1.jld2\n",
       "├── name: S\n",
       "└── data: 133×56×34×2 OffsetArray(::Array{Float64, 4}, -6:126, -6:49, -6:27, 1:2) with eltype Float64 with indices -6:126×-6:49×-6:27×1:2\n",
       "    └── max=15.5, min=0.0, mean=1.23449"
      ]
     },
     "execution_count": 13,
     "metadata": {},
     "output_type": "execute_result"
    }
   ],
   "source": [
    "# Record a video\n",
    "#\n",
    "# (1) Zonal velocity (u)\n",
    "# (2) Meridional velocity (v)\n",
    "# (3) Temperature (T)\n",
    "# (4) Salinity (S)\n",
    "u_series = FieldTimeSeries(fname, \"u\")\n",
    "v_series = FieldTimeSeries(fname, \"v\")\n",
    "T_series = FieldTimeSeries(fname, \"T\")\n",
    "S_series = FieldTimeSeries(fname, \"S\")\n",
    "OXY_series = FieldTimeSeries(fname, \"T\")\n",
    "NUT_series = FieldTimeSeries(fname, \"S\")"
   ]
  },
  {
   "cell_type": "code",
   "execution_count": 14,
   "id": "518a5475-63da-49cc-8be5-2fd32948053b",
   "metadata": {},
   "outputs": [
    {
     "data": {
      "text/plain": [
       "12-element Vector{String}:\n",
       " \"u\"\n",
       " \"v\"\n",
       " \"w\"\n",
       " \"T\"\n",
       " \"S\"\n",
       " \"OXY\"\n",
       " \"NUT\"\n",
       " \"DOM\"\n",
       " \"POM\"\n",
       " \"PHY\"\n",
       " \"HET\"\n",
       " \"t\""
      ]
     },
     "execution_count": 14,
     "metadata": {},
     "output_type": "execute_result"
    }
   ],
   "source": [
    "keys(jldopen(fname)[\"timeseries\"])"
   ]
  },
  {
   "cell_type": "code",
   "execution_count": 391,
   "id": "5e141b7e-64aa-4dfc-878b-68afaf9e6e69",
   "metadata": {},
   "outputs": [
    {
     "data": {
      "text/plain": [
       "21-element Vector{String}:\n",
       " \"Nx\"\n",
       " \"Ny\"\n",
       " \"Nz\"\n",
       " \"Hx\"\n",
       " \"Hy\"\n",
       " \"Hz\"\n",
       " \"Lx\"\n",
       " \"Ly\"\n",
       " \"Lz\"\n",
       " \"Δxᶠᵃᵃ\"\n",
       " \"Δxᶜᵃᵃ\"\n",
       " \"xᶠᵃᵃ\"\n",
       " \"xᶜᵃᵃ\"\n",
       " \"Δyᵃᶠᵃ\"\n",
       " \"Δyᵃᶜᵃ\"\n",
       " \"yᵃᶠᵃ\"\n",
       " \"yᵃᶜᵃ\"\n",
       " \"Δzᵃᵃᶠ\"\n",
       " \"Δzᵃᵃᶜ\"\n",
       " \"zᵃᵃᶠ\"\n",
       " \"zᵃᵃᶜ\""
      ]
     },
     "execution_count": 391,
     "metadata": {},
     "output_type": "execute_result"
    }
   ],
   "source": [
    "keys(jldopen(fname)[\"grid\"][\"underlying_grid\"])"
   ]
  },
  {
   "cell_type": "code",
   "execution_count": 15,
   "id": "02d8eef7-be19-4e7a-8574-d72103dcd4f7",
   "metadata": {},
   "outputs": [
    {
     "data": {
      "text/plain": [
       "119×42×20×2 FieldTimeSeries{InMemory} located at (Center, Center, Center) of S at exp3_out-Copy1.jld2\n",
       "├── grid: 119×42×20 ImmersedBoundaryGrid{Float64, Bounded, Bounded, Bounded} on CPU with 7×7×7 halo\n",
       "├── indices: (:, :, :)\n",
       "├── time_indexing: Linear()\n",
       "├── backend: InMemory()\n",
       "├── path: exp3_out-Copy1.jld2\n",
       "├── name: S\n",
       "└── data: 133×56×34×2 OffsetArray(::Array{Float64, 4}, -6:126, -6:49, -6:27, 1:2) with eltype Float64 with indices -6:126×-6:49×-6:27×1:2\n",
       "    └── max=15.5, min=0.0, mean=1.23449"
      ]
     },
     "execution_count": 15,
     "metadata": {},
     "output_type": "execute_result"
    }
   ],
   "source": [
    "NUT_series"
   ]
  },
  {
   "cell_type": "code",
   "execution_count": 16,
   "id": "4f5d15da-f84f-4cbd-889b-153be9d58303",
   "metadata": {},
   "outputs": [],
   "source": [
    "xc_grid = jldopen(fname)[\"grid\"][\"underlying_grid\"][\"xᶜᵃᵃ\"][8:Nx+7]\n",
    "yc_grid = jldopen(fname)[\"grid\"][\"underlying_grid\"][\"yᵃᶜᵃ\"][8:Ny+7]\n",
    "zc_grid = jldopen(fname)[\"grid\"][\"underlying_grid\"][\"zᵃᵃᶜ\"][8:Nz+7]\n",
    "\n",
    "xf_grid = jldopen(fname)[\"grid\"][\"underlying_grid\"][\"xᶠᵃᵃ\"][8:Nx+8]\n",
    "yf_grid = jldopen(fname)[\"grid\"][\"underlying_grid\"][\"yᵃᶠᵃ\"][8:Ny+7]\n",
    "zf_grid = jldopen(fname)[\"grid\"][\"underlying_grid\"][\"zᵃᵃᶠ\"][8:Nz+7];"
   ]
  },
  {
   "cell_type": "code",
   "execution_count": 17,
   "id": "985b811c-9f31-4f95-a40e-4df9cb079276",
   "metadata": {
    "scrolled": true
   },
   "outputs": [
    {
     "ename": "LoadError",
     "evalue": "Invalid attribute \u001b[31m\u001b[1mcolorrange\u001b[22m\u001b[39m for plot type \u001b[34m\u001b[1mPlot{Makie.contourf}\u001b[22m\u001b[39m.\n\nThe available plot attributes for Plot{Makie.contourf} are:\n\ncolormap     extendlow        inspector_hover  model      ssao            \ncolorscale   fxaa             inspector_label  nan_color  transformation  \ndepth_shift  inspectable      levels           overdraw   transparency    \nextendhigh   inspector_clear  mode             space      visible         \n\n\nGeneric attributes are:\n\ncycle            label  rasterize       xautolimits  zautolimits      \ndim_conversions  model  transformation  yautolimits                   \n\n",
     "output_type": "error",
     "traceback": [
      "Invalid attribute \u001b[31m\u001b[1mcolorrange\u001b[22m\u001b[39m for plot type \u001b[34m\u001b[1mPlot{Makie.contourf}\u001b[22m\u001b[39m.\n\nThe available plot attributes for Plot{Makie.contourf} are:\n\ncolormap     extendlow        inspector_hover  model      ssao            \ncolorscale   fxaa             inspector_label  nan_color  transformation  \ndepth_shift  inspectable      levels           overdraw   transparency    \nextendhigh   inspector_clear  mode             space      visible         \n\n\nGeneric attributes are:\n\ncycle            label  rasterize       xautolimits  zautolimits      \ndim_conversions  model  transformation  yautolimits                   \n\n",
      "",
      "Stacktrace:",
      " [1] validate_attribute_keys(P::Type{Plot{Makie.contourf}}, kw::Dict{Symbol, Any})",
      "   @ MakieCore C:\\Users\\ABE\\.julia\\packages\\MakieCore\\8S3xT\\src\\recipes.jl:732",
      " [2] Plot{Makie.contourf, Tuple{Vector{Float64}, Vector{Float64}, Matrix{Float32}}}(kw::Dict{Symbol, Any}, args::Vector{Any}, converted::Vector{Observable}, deregister_callbacks::Vector{Observables.ObserverFunction})",
      "   @ MakieCore C:\\Users\\ABE\\.julia\\packages\\MakieCore\\8S3xT\\src\\types.jl:86",
      " [3] (Plot{Makie.contourf})(user_args::Tuple{UnitRange{Int64}, Vector{Float64}, Observable{SubArray{Float64, 2, Array{Float64, 4}, Tuple{UnitRange{Int64}, Int64, UnitRange{Int64}, Int64}, false}}}, user_attributes::Dict{Symbol, Any})",
      "   @ Makie C:\\Users\\ABE\\.julia\\packages\\Makie\\We6MY\\src\\interfaces.jl:276",
      " [4] _create_plot!(::Function, ::Dict{Symbol, Any}, ::UnitRange{Int64}, ::Vector{Float64}, ::Vararg{Any})",
      "   @ Makie C:\\Users\\ABE\\.julia\\packages\\Makie\\We6MY\\src\\figureplotting.jl:377",
      " [5] contourf!(::UnitRange{Int64}, ::Vararg{Any}; kw::@Kwargs{colormap::Reverse{Symbol}, colorrange::Tuple{Int64, Int64}, levels::Vector{Float64}})",
      "   @ Makie C:\\Users\\ABE\\.julia\\packages\\MakieCore\\8S3xT\\src\\recipes.jl:440",
      " [6] top-level scope",
      "   @ In[17]:57"
     ]
    }
   ],
   "source": [
    "iter = Observable(1)\n",
    "\n",
    "ysec = 17\n",
    "\n",
    "u = @lift begin\n",
    "    f = interior(u_series[$iter], 1:2:Nx, 1:2:Ny, Nz)\n",
    "    f[f .== 0] .= NaN\n",
    "    f\n",
    "end\n",
    "v = @lift begin\n",
    "    f = interior(v_series[$iter], 1:2:Nx, 1:2:Ny, Nz)\n",
    "    f[f .== 0] .= NaN\n",
    "    f\n",
    "end\n",
    "vspeed = @lift begin\n",
    "    fu = interior(u_series[$iter], 1:2:Nx, 1:2:Ny, Nz)\n",
    "    fu[fu .== 0] .= NaN\n",
    "    fv = interior(v_series[$iter], 1:2:Nx, 1:2:Ny, Nz)\n",
    "    fv[fv .== 0] .= NaN\n",
    "    f = vec(sqrt.(fu .^ 2 .+ fv .^ 2))\n",
    "    f\n",
    "end\n",
    "\n",
    "T = @lift begin\n",
    "    f = interior(T_series[$iter], :, :, Nz)\n",
    "    f[f .== 0] .= NaN\n",
    "    f\n",
    "end\n",
    "usec = @lift begin\n",
    "    f = interior(u_series[$iter], :, ysec, :)\n",
    "    f[f .== 0] .= NaN\n",
    "    f\n",
    "end\n",
    "Tsec = @lift begin\n",
    "    f = interior(T_series[$iter], :, ysec, :)\n",
    "    f[f .== 0] .= NaN\n",
    "    f\n",
    "end\n",
    "\n",
    "fig = Figure(size = (1600, 400))\n",
    "\n",
    "ax = Axis(fig[1, 1], title = \"surface zonal velocity ms⁻¹\")\n",
    "ar = arrows!(1:2:Nx, 1:2:Ny, u, v, colorrange=(0, 0.08),\n",
    "    arrowcolor = vspeed, linecolor = vspeed, colormap = :lipari, normalize = true)\n",
    "# hm = heatmap!(xf_grid, yf_grid, u, colormap = :lipari, colorrange=(-0.08, 0))\n",
    "Colorbar(fig[1, 1][1, 2], ar, ticks = 0.0:0.02:0.08)\n",
    "\n",
    "ax = Axis(fig[1, 2], title = \"zonal velocity ms⁻¹\")\n",
    "hm = heatmap!(0:Nx, zf_grid, usec, colormap = :lipari, colorrange=(0.0, 0.08))\n",
    "Colorbar(fig[1, 2][1, 2], hm, ticks = 0.0:0.02:0.08)\n",
    "\n",
    "ax = Axis(fig[2, 1], title = \"surface temperature ᵒC\")\n",
    "hm = heatmap!(1:Nx, 1:Ny, T, colormap =  Reverse(:Spectral), colorrange=(12.4,12.51))\n",
    "Colorbar(fig[2, 1][1, 2], hm, ticks = 12.4:0.02:12.5)\n",
    "\n",
    "ax = Axis(fig[2, 2], title = \"temperature ᵒC\")\n",
    "hm = contourf!(1:Nx, zc_grid, Tsec, colormap = Reverse(:Spectral), colorrange=(4,13), levels=collect(4:0.5:13))\n",
    "Colorbar(fig[2, 2][1, 2], hm, ticks = 4:4:13)\n",
    "ylims!(-20, 0)\n",
    "\n",
    "GLMakie.record(fig, \"Varna-sec3h_videoT.mp4\", 1:length(u_series.times); framerate = 5) do i\n",
    "    @info \"recording iteration $i\"\n",
    "    iter[] = i    \n",
    "end"
   ]
  },
  {
   "cell_type": "code",
   "execution_count": null,
   "id": "838b3e6b-6210-4c09-910f-f66594d039ac",
   "metadata": {},
   "outputs": [],
   "source": []
  },
  {
   "cell_type": "code",
   "execution_count": null,
   "id": "19465908-d52e-4e64-9d0e-f842e76313d9",
   "metadata": {},
   "outputs": [],
   "source": []
  },
  {
   "cell_type": "code",
   "execution_count": null,
   "id": "aaf2f014-b3be-4082-8e37-ab6dff945838",
   "metadata": {},
   "outputs": [],
   "source": []
  },
  {
   "cell_type": "code",
   "execution_count": 393,
   "id": "fda68e9f-6341-4a21-b250-ca4c2688ddef",
   "metadata": {
    "scrolled": true
   },
   "outputs": [
    {
     "name": "stderr",
     "output_type": "stream",
     "text": [
      "\u001b[36m\u001b[1m[ \u001b[22m\u001b[39m\u001b[36m\u001b[1mInfo: \u001b[22m\u001b[39mrecording iteration 1\n",
      "\u001b[36m\u001b[1m[ \u001b[22m\u001b[39m\u001b[36m\u001b[1mInfo: \u001b[22m\u001b[39mrecording iteration 2\n",
      "\u001b[36m\u001b[1m[ \u001b[22m\u001b[39m\u001b[36m\u001b[1mInfo: \u001b[22m\u001b[39mrecording iteration 3\n",
      "\u001b[36m\u001b[1m[ \u001b[22m\u001b[39m\u001b[36m\u001b[1mInfo: \u001b[22m\u001b[39mrecording iteration 4\n",
      "\u001b[36m\u001b[1m[ \u001b[22m\u001b[39m\u001b[36m\u001b[1mInfo: \u001b[22m\u001b[39mrecording iteration 5\n",
      "\u001b[36m\u001b[1m[ \u001b[22m\u001b[39m\u001b[36m\u001b[1mInfo: \u001b[22m\u001b[39mrecording iteration 6\n",
      "\u001b[36m\u001b[1m[ \u001b[22m\u001b[39m\u001b[36m\u001b[1mInfo: \u001b[22m\u001b[39mrecording iteration 7\n",
      "\u001b[36m\u001b[1m[ \u001b[22m\u001b[39m\u001b[36m\u001b[1mInfo: \u001b[22m\u001b[39mrecording iteration 8\n",
      "\u001b[36m\u001b[1m[ \u001b[22m\u001b[39m\u001b[36m\u001b[1mInfo: \u001b[22m\u001b[39mrecording iteration 9\n",
      "\u001b[36m\u001b[1m[ \u001b[22m\u001b[39m\u001b[36m\u001b[1mInfo: \u001b[22m\u001b[39mrecording iteration 10\n",
      "\u001b[36m\u001b[1m[ \u001b[22m\u001b[39m\u001b[36m\u001b[1mInfo: \u001b[22m\u001b[39mrecording iteration 11\n",
      "\u001b[36m\u001b[1m[ \u001b[22m\u001b[39m\u001b[36m\u001b[1mInfo: \u001b[22m\u001b[39mrecording iteration 12\n",
      "\u001b[36m\u001b[1m[ \u001b[22m\u001b[39m\u001b[36m\u001b[1mInfo: \u001b[22m\u001b[39mrecording iteration 13\n",
      "\u001b[36m\u001b[1m[ \u001b[22m\u001b[39m\u001b[36m\u001b[1mInfo: \u001b[22m\u001b[39mrecording iteration 14\n",
      "\u001b[36m\u001b[1m[ \u001b[22m\u001b[39m\u001b[36m\u001b[1mInfo: \u001b[22m\u001b[39mrecording iteration 15\n",
      "\u001b[36m\u001b[1m[ \u001b[22m\u001b[39m\u001b[36m\u001b[1mInfo: \u001b[22m\u001b[39mrecording iteration 16\n",
      "\u001b[36m\u001b[1m[ \u001b[22m\u001b[39m\u001b[36m\u001b[1mInfo: \u001b[22m\u001b[39mrecording iteration 17\n",
      "\u001b[36m\u001b[1m[ \u001b[22m\u001b[39m\u001b[36m\u001b[1mInfo: \u001b[22m\u001b[39mrecording iteration 18\n",
      "\u001b[36m\u001b[1m[ \u001b[22m\u001b[39m\u001b[36m\u001b[1mInfo: \u001b[22m\u001b[39mrecording iteration 19\n",
      "\u001b[36m\u001b[1m[ \u001b[22m\u001b[39m\u001b[36m\u001b[1mInfo: \u001b[22m\u001b[39mrecording iteration 20\n",
      "\u001b[36m\u001b[1m[ \u001b[22m\u001b[39m\u001b[36m\u001b[1mInfo: \u001b[22m\u001b[39mrecording iteration 21\n",
      "\u001b[36m\u001b[1m[ \u001b[22m\u001b[39m\u001b[36m\u001b[1mInfo: \u001b[22m\u001b[39mrecording iteration 22\n",
      "\u001b[36m\u001b[1m[ \u001b[22m\u001b[39m\u001b[36m\u001b[1mInfo: \u001b[22m\u001b[39mrecording iteration 23\n",
      "\u001b[36m\u001b[1m[ \u001b[22m\u001b[39m\u001b[36m\u001b[1mInfo: \u001b[22m\u001b[39mrecording iteration 24\n",
      "\u001b[36m\u001b[1m[ \u001b[22m\u001b[39m\u001b[36m\u001b[1mInfo: \u001b[22m\u001b[39mrecording iteration 25\n",
      "\u001b[36m\u001b[1m[ \u001b[22m\u001b[39m\u001b[36m\u001b[1mInfo: \u001b[22m\u001b[39mrecording iteration 26\n",
      "\u001b[36m\u001b[1m[ \u001b[22m\u001b[39m\u001b[36m\u001b[1mInfo: \u001b[22m\u001b[39mrecording iteration 27\n",
      "\u001b[36m\u001b[1m[ \u001b[22m\u001b[39m\u001b[36m\u001b[1mInfo: \u001b[22m\u001b[39mrecording iteration 28\n"
     ]
    },
    {
     "data": {
      "text/plain": [
       "\"Varna-sec24h_videoSexp3.mp4\""
      ]
     },
     "execution_count": 393,
     "metadata": {},
     "output_type": "execute_result"
    }
   ],
   "source": [
    "iter = Observable(1)\n",
    "\n",
    "ysec = 17\n",
    "\n",
    "u = @lift begin\n",
    "    f = interior(u_series[$iter], 1:2:Nx, 1:2:Ny, Nz)\n",
    "    f[f .== 0] .= NaN\n",
    "    f\n",
    "end\n",
    "v = @lift begin\n",
    "    f = interior(v_series[$iter], 1:2:Nx, 1:2:Ny, Nz)\n",
    "    f[f .== 0] .= NaN\n",
    "    f\n",
    "end\n",
    "vspeed = @lift begin\n",
    "    fu = interior(u_series[$iter], 1:2:Nx, 1:2:Ny, Nz)\n",
    "    fu[fu .== 0] .= NaN\n",
    "    fv = interior(v_series[$iter], 1:2:Nx, 1:2:Ny, Nz)\n",
    "    fv[fv .== 0] .= NaN\n",
    "    f = vec(sqrt.(fu .^ 2 .+ fv .^ 2))\n",
    "    f\n",
    "end\n",
    "\n",
    "S = @lift begin\n",
    "    f = interior(S_series[$iter], :, :, Nz)\n",
    "    f[f .== 0] .= NaN\n",
    "    f\n",
    "end\n",
    "\n",
    "usec = @lift begin\n",
    "    f = interior(u_series[$iter], :, ysec, :)\n",
    "    f[f .== 0] .= NaN\n",
    "    f\n",
    "end\n",
    "Ssec = @lift begin\n",
    "    f = interior(S_series[$iter], :, ysec, :)\n",
    "    f[f .== 0] .= NaN\n",
    "    f\n",
    "end\n",
    "\n",
    "fig = Figure(size = (1600, 400))\n",
    "\n",
    "ax = Axis(fig[1, 1], title = \"surface zonal velocity ms⁻¹\")\n",
    "ar = arrows!(1:2:Nx, 1:2:Ny, u, v, colorrange=(0, 0.08),\n",
    "    arrowcolor = vspeed, linecolor = vspeed, colormap = :lipari, normalize = true)\n",
    "# hm = heatmap!(xf_grid, yf_grid, u, colormap = :lipari, colorrange=(-0.08, 0))\n",
    "Colorbar(fig[1, 1][1, 2], ar, ticks = 0.0:0.02:0.08)\n",
    "\n",
    "ax = Axis(fig[1, 2], title = \"zonal velocity ms⁻¹\")\n",
    "hm = heatmap!(0:Nx, zf_grid, usec, colormap = :lipari, colorrange=(0.0, 0.08))\n",
    "Colorbar(fig[1, 2][1, 2], hm, ticks = 0.0:0.02:0.08)\n",
    "\n",
    "ax = Axis(fig[2, 1], title = \"surface salinity PSU\")\n",
    "hm = heatmap!(1:Nx, 1:Ny, S, colormap =  :viridis, colorrange=(0.0,15.5))\n",
    "Colorbar(fig[2, 1][1, 2], hm, ticks = 0.0:5.0:15.5)\n",
    "\n",
    "ax = Axis(fig[2, 2], title = \"surface salinity PSU\")\n",
    "hm = contourf!(1:Nx, zc_grid, Ssec, colormap = :viridis, colorrange=(4,13), levels=collect(0.0:0.5:15.5))\n",
    "Colorbar(fig[2, 2][1, 2], hm, ticks = 0.0:5.0:15.5)\n",
    "ylims!(-20, 0)\n",
    "\n",
    "GLMakie.record(fig, \"Varna-video.mp4\", 1:length(u_series.times); framerate = 1) do i\n",
    "    @info \"recording iteration $i\"\n",
    "    iter[] = i    \n",
    "end"
   ]
  }
 ],
 "metadata": {
  "kernelspec": {
   "display_name": "Julia 1.10.2",
   "language": "julia",
   "name": "julia-1.10"
  },
  "language_info": {
   "file_extension": ".jl",
   "mimetype": "application/julia",
   "name": "julia",
   "version": "1.10.2"
  }
 },
 "nbformat": 4,
 "nbformat_minor": 5
}
