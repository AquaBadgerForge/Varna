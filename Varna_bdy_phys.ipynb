{
 "cells": [
  {
   "cell_type": "code",
   "execution_count": null,
   "metadata": {},
   "outputs": [],
   "source": [
    "# import pandas as pd\n",
    "import numpy as np\n",
    "import xarray as xr\n",
    "\n",
    "import matplotlib.pyplot as plt\n",
    "import cartopy.crs as ccrs\n",
    "import cartopy.feature as cfeature"
   ]
  },
  {
   "cell_type": "code",
   "execution_count": null,
   "metadata": {},
   "outputs": [],
   "source": [
    "bathy = np.loadtxt(\"Varna_topo_channels.txt\")  # Bathymetry file path\n",
    "coper_data_path = r\"C:\\Users\\M.Novikov\\Nayka\\BROM\\data\\Varna\"  # Data directory path"
   ]
  },
  {
   "cell_type": "markdown",
   "metadata": {},
   "source": [
    "### Domain"
   ]
  },
  {
   "cell_type": "code",
   "execution_count": null,
   "metadata": {},
   "outputs": [],
   "source": [
    "da_bathy = xr.DataArray(bathy)"
   ]
  },
  {
   "cell_type": "code",
   "execution_count": null,
   "metadata": {},
   "outputs": [],
   "source": [
    "# Check z value\n",
    "da_bathy.min()"
   ]
  },
  {
   "cell_type": "code",
   "execution_count": null,
   "metadata": {},
   "outputs": [],
   "source": [
    "plt.pcolormesh(da_bathy)\n",
    "plt.colorbar()"
   ]
  },
  {
   "cell_type": "code",
   "execution_count": null,
   "metadata": {},
   "outputs": [],
   "source": [
    "domain = {'lon':[27.640,27.640,27.947,27.947], 'lat':[43.177,43.214,43.214,43.177]}"
   ]
  },
  {
   "cell_type": "code",
   "execution_count": null,
   "metadata": {},
   "outputs": [],
   "source": [
    "# Just for fun - input data and gomain location\n",
    "\n",
    "fig = plt.figure(figsize=(10, 5))\n",
    "ax = fig.add_subplot(1, 1, 1, projection=ccrs.Mercator(central_longitude=180))\n",
    "# Coper data\n",
    "ax.pcolormesh(coper_data[\"longitude\"], coper_data[\"latitude\"], coper_data[\"uo\"][0,0,...], transform=ccrs.PlateCarree())\n",
    "# East domain\n",
    "ax.plot(domain['lon'], domain['lat'], marker='o', transform=ccrs.PlateCarree())\n",
    "ax.fill(domain['lon'], domain['lat'], color='c', transform=ccrs.PlateCarree(), alpha=0.4)\n",
    "ax.set_extent([27.8, 28, 43.1, 43.3])\n",
    "ax.add_feature(cfeature.LAND, zorder=1, alpha = 0.2)\n",
    "ax.add_feature(cfeature.RIVERS, zorder=1)\n",
    "ax.add_feature(cfeature.BORDERS, linestyle=':', zorder=1)\n",
    "ax.coastlines(zorder=1)\n",
    "ax.gridlines(draw_labels=True, dms=True, x_inline=False, y_inline=False, zorder=1)\n",
    "\n",
    "# plt.savefig('Images/ЕПЦС_NEMO_катра.png', dpi=600, bbox_inches='tight')"
   ]
  },
  {
   "cell_type": "markdown",
   "metadata": {},
   "source": [
    "### Coper data"
   ]
  },
  {
   "cell_type": "code",
   "execution_count": null,
   "metadata": {},
   "outputs": [],
   "source": [
    "coper_data = xr.open_mfdataset(f\"{coper_data_path}\\*24*\")  # Load all downloaded CMEMS files (cur, tem, sal and ssh)"
   ]
  },
  {
   "cell_type": "code",
   "execution_count": null,
   "metadata": {},
   "outputs": [],
   "source": [
    "coper_data"
   ]
  },
  {
   "cell_type": "markdown",
   "metadata": {},
   "source": [
    "### Boundary creation"
   ]
  },
  {
   "cell_type": "code",
   "execution_count": null,
   "metadata": {},
   "outputs": [],
   "source": [
    "# Boundary mesh\n",
    "x_coord = 27.947\n",
    "y_coord = np.linspace(43.177, 43.214, 42)\n",
    "z_coord = -1*np.arange(0, da_bathy.min()-0.5, -0.5)"
   ]
  },
  {
   "cell_type": "code",
   "execution_count": null,
   "metadata": {},
   "outputs": [],
   "source": [
    "# data extraction\n",
    "bdy_data = coper_data.interp(latitude=y_coord, longitude=x_coord, method=\"nearest\" ,kwargs={\"fill_value\": \"extrapolate\"},)"
   ]
  },
  {
   "cell_type": "code",
   "execution_count": null,
   "metadata": {},
   "outputs": [],
   "source": [
    "bdy_data[\"uo\"][2,...].plot()\n",
    "plt.ylim(0,25)"
   ]
  },
  {
   "cell_type": "code",
   "execution_count": null,
   "metadata": {},
   "outputs": [],
   "source": [
    "# Raw interpolation\n",
    "bdy_data = bdy_data.interp(depth=z_coord)\n",
    "bdy_data[\"uo\"][2].plot()"
   ]
  },
  {
   "cell_type": "code",
   "execution_count": null,
   "metadata": {},
   "outputs": [],
   "source": [
    "# NaN fillings ind smoothing\n",
    "bdy_data = bdy_data.interpolate_na(dim=\"latitude\", method=\"nearest\", fill_value=\"extrapolate\")\n",
    "bdy_data = bdy_data.interpolate_na(dim=\"depth\", method=\"nearest\", fill_value=\"extrapolate\")\n",
    "bdy_data = bdy_data.rolling(latitude=7).mean()\n",
    "bdy_data = bdy_data.interpolate_na(dim=\"latitude\", method=\"nearest\", fill_value=\"extrapolate\")\n",
    "bdy_data[\"depth\"] = -1*bdy_data[\"depth\"]"
   ]
  },
  {
   "cell_type": "code",
   "execution_count": null,
   "metadata": {},
   "outputs": [],
   "source": [
    "# At last\n",
    "bdy_data[\"zos\"][-1].plot()"
   ]
  },
  {
   "cell_type": "code",
   "execution_count": null,
   "metadata": {},
   "outputs": [],
   "source": [
    "# bdy_data.to_netcdf(f\"{coper_data_path}\\Varna_bdy_05-24.nc\")"
   ]
  },
  {
   "cell_type": "code",
   "execution_count": null,
   "metadata": {},
   "outputs": [],
   "source": [
    "# Test the file\n",
    "bdy_data = xr.open_dataset(f\"{coper_data_path}\\Varna_bdy_05-24.nc\")\n",
    "bdy_data"
   ]
  },
  {
   "cell_type": "code",
   "execution_count": null,
   "metadata": {},
   "outputs": [],
   "source": []
  }
 ],
 "metadata": {
  "kernelspec": {
   "display_name": "base",
   "language": "python",
   "name": "python3"
  },
  "language_info": {
   "codemirror_mode": {
    "name": "ipython",
    "version": 3
   },
   "file_extension": ".py",
   "mimetype": "text/x-python",
   "name": "python",
   "nbconvert_exporter": "python",
   "pygments_lexer": "ipython3",
   "version": "3.11.9"
  }
 },
 "nbformat": 4,
 "nbformat_minor": 2
}
