{
 "cells": [
  {
   "cell_type": "code",
   "execution_count": 44,
   "id": "51198dac-394e-41c7-9847-605bdfc6d2d4",
   "metadata": {},
   "outputs": [],
   "source": [
    "import xarray as xr\n",
    "import rasterio\n",
    "import numpy as np\n",
    "from matplotlib.colors import LinearSegmentedColormap\n",
    "import matplotlib.pyplot as plt\n",
    "import numpy as np\n",
    "from scipy.interpolate import griddata\n",
    "import pandas as pd\n",
    "from scipy.ndimage import gaussian_filter\n",
    "from PIL import Image"
   ]
  },
  {
   "cell_type": "code",
   "execution_count": 2,
   "id": "fe58600e-cc24-467d-9313-e03fc230639d",
   "metadata": {},
   "outputs": [],
   "source": [
    "colors =  [\n",
    "    (0, '#d00602'),    # 0\n",
    "    (0.2, '#fa0502'),    # 5\n",
    "    (0.4, '#fbfd06'),    # 10\n",
    "    (0.6, '#01fd08'),    # 15\n",
    "    (0.8, '#04fef4'),    # 20\n",
    "    (1, '#09dde0'),    # 25\n",
    "]"
   ]
  },
  {
   "cell_type": "code",
   "execution_count": 3,
   "id": "448ea2b7-8de8-4255-bd87-579dfeb5c1fc",
   "metadata": {},
   "outputs": [],
   "source": [
    "depth_values = np.linspace(0, 25, len(colors))"
   ]
  },
  {
   "cell_type": "code",
   "execution_count": 4,
   "id": "61c2e9e0-01c1-44d4-a7a6-e1e3a700f9e0",
   "metadata": {},
   "outputs": [],
   "source": [
    "colorscale = LinearSegmentedColormap.from_list('depth_scale', [c[1] for c in colors])"
   ]
  },
  {
   "cell_type": "code",
   "execution_count": 5,
   "id": "cdbf7336-9945-4264-91b7-121af3cf6817",
   "metadata": {},
   "outputs": [],
   "source": [
    "#d00602 0\n",
    "#fa0502 5\n",
    "#fbfd06 10\n",
    "#01fd08 15\n",
    "#04fef4 20\n",
    "#09dde0 25"
   ]
  },
  {
   "cell_type": "code",
   "execution_count": 6,
   "id": "9976e0a1-bb03-4321-a867-e96df76aae7c",
   "metadata": {},
   "outputs": [],
   "source": [
    "df = pd.read_csv('varna_rgb.csv')"
   ]
  },
  {
   "cell_type": "code",
   "execution_count": 7,
   "id": "5084fbe8-4e95-4dda-bf2b-a835daa54228",
   "metadata": {},
   "outputs": [
    {
     "data": {
      "text/html": [
       "<div>\n",
       "<style scoped>\n",
       "    .dataframe tbody tr th:only-of-type {\n",
       "        vertical-align: middle;\n",
       "    }\n",
       "\n",
       "    .dataframe tbody tr th {\n",
       "        vertical-align: top;\n",
       "    }\n",
       "\n",
       "    .dataframe thead th {\n",
       "        text-align: right;\n",
       "    }\n",
       "</style>\n",
       "<table border=\"1\" class=\"dataframe\">\n",
       "  <thead>\n",
       "    <tr style=\"text-align: right;\">\n",
       "      <th></th>\n",
       "      <th>id</th>\n",
       "      <th>left</th>\n",
       "      <th>top</th>\n",
       "      <th>right</th>\n",
       "      <th>bottom</th>\n",
       "      <th>SAMPLE_1</th>\n",
       "      <th>SAMPLE_2</th>\n",
       "      <th>SAMPLE_3</th>\n",
       "      <th>SAMPLE_4</th>\n",
       "    </tr>\n",
       "  </thead>\n",
       "  <tbody>\n",
       "    <tr>\n",
       "      <th>0</th>\n",
       "      <td>1</td>\n",
       "      <td>27.646003</td>\n",
       "      <td>43.210982</td>\n",
       "      <td>27.647003</td>\n",
       "      <td>43.211482</td>\n",
       "      <td>NaN</td>\n",
       "      <td>NaN</td>\n",
       "      <td>NaN</td>\n",
       "      <td>NaN</td>\n",
       "    </tr>\n",
       "    <tr>\n",
       "      <th>1</th>\n",
       "      <td>2</td>\n",
       "      <td>27.646003</td>\n",
       "      <td>43.210482</td>\n",
       "      <td>27.647003</td>\n",
       "      <td>43.210982</td>\n",
       "      <td>NaN</td>\n",
       "      <td>NaN</td>\n",
       "      <td>NaN</td>\n",
       "      <td>NaN</td>\n",
       "    </tr>\n",
       "    <tr>\n",
       "      <th>2</th>\n",
       "      <td>3</td>\n",
       "      <td>27.646003</td>\n",
       "      <td>43.209982</td>\n",
       "      <td>27.647003</td>\n",
       "      <td>43.210482</td>\n",
       "      <td>NaN</td>\n",
       "      <td>NaN</td>\n",
       "      <td>NaN</td>\n",
       "      <td>NaN</td>\n",
       "    </tr>\n",
       "    <tr>\n",
       "      <th>3</th>\n",
       "      <td>4</td>\n",
       "      <td>27.646003</td>\n",
       "      <td>43.209482</td>\n",
       "      <td>27.647003</td>\n",
       "      <td>43.209982</td>\n",
       "      <td>NaN</td>\n",
       "      <td>NaN</td>\n",
       "      <td>NaN</td>\n",
       "      <td>NaN</td>\n",
       "    </tr>\n",
       "    <tr>\n",
       "      <th>4</th>\n",
       "      <td>5</td>\n",
       "      <td>27.646003</td>\n",
       "      <td>43.208982</td>\n",
       "      <td>27.647003</td>\n",
       "      <td>43.209482</td>\n",
       "      <td>NaN</td>\n",
       "      <td>NaN</td>\n",
       "      <td>NaN</td>\n",
       "      <td>NaN</td>\n",
       "    </tr>\n",
       "    <tr>\n",
       "      <th>...</th>\n",
       "      <td>...</td>\n",
       "      <td>...</td>\n",
       "      <td>...</td>\n",
       "      <td>...</td>\n",
       "      <td>...</td>\n",
       "      <td>...</td>\n",
       "      <td>...</td>\n",
       "      <td>...</td>\n",
       "      <td>...</td>\n",
       "    </tr>\n",
       "    <tr>\n",
       "      <th>16165</th>\n",
       "      <td>16166</td>\n",
       "      <td>27.890003</td>\n",
       "      <td>43.180482</td>\n",
       "      <td>27.891003</td>\n",
       "      <td>43.180982</td>\n",
       "      <td>NaN</td>\n",
       "      <td>NaN</td>\n",
       "      <td>NaN</td>\n",
       "      <td>NaN</td>\n",
       "    </tr>\n",
       "    <tr>\n",
       "      <th>16166</th>\n",
       "      <td>16167</td>\n",
       "      <td>27.890003</td>\n",
       "      <td>43.179982</td>\n",
       "      <td>27.891003</td>\n",
       "      <td>43.180482</td>\n",
       "      <td>NaN</td>\n",
       "      <td>NaN</td>\n",
       "      <td>NaN</td>\n",
       "      <td>NaN</td>\n",
       "    </tr>\n",
       "    <tr>\n",
       "      <th>16167</th>\n",
       "      <td>16168</td>\n",
       "      <td>27.890003</td>\n",
       "      <td>43.179482</td>\n",
       "      <td>27.891003</td>\n",
       "      <td>43.179982</td>\n",
       "      <td>NaN</td>\n",
       "      <td>NaN</td>\n",
       "      <td>NaN</td>\n",
       "      <td>NaN</td>\n",
       "    </tr>\n",
       "    <tr>\n",
       "      <th>16168</th>\n",
       "      <td>16169</td>\n",
       "      <td>27.890003</td>\n",
       "      <td>43.178982</td>\n",
       "      <td>27.891003</td>\n",
       "      <td>43.179482</td>\n",
       "      <td>NaN</td>\n",
       "      <td>NaN</td>\n",
       "      <td>NaN</td>\n",
       "      <td>NaN</td>\n",
       "    </tr>\n",
       "    <tr>\n",
       "      <th>16169</th>\n",
       "      <td>16170</td>\n",
       "      <td>27.890003</td>\n",
       "      <td>43.178482</td>\n",
       "      <td>27.891003</td>\n",
       "      <td>43.178982</td>\n",
       "      <td>NaN</td>\n",
       "      <td>NaN</td>\n",
       "      <td>NaN</td>\n",
       "      <td>NaN</td>\n",
       "    </tr>\n",
       "  </tbody>\n",
       "</table>\n",
       "<p>16170 rows × 9 columns</p>\n",
       "</div>"
      ],
      "text/plain": [
       "          id       left        top      right     bottom  SAMPLE_1  SAMPLE_2  \\\n",
       "0          1  27.646003  43.210982  27.647003  43.211482       NaN       NaN   \n",
       "1          2  27.646003  43.210482  27.647003  43.210982       NaN       NaN   \n",
       "2          3  27.646003  43.209982  27.647003  43.210482       NaN       NaN   \n",
       "3          4  27.646003  43.209482  27.647003  43.209982       NaN       NaN   \n",
       "4          5  27.646003  43.208982  27.647003  43.209482       NaN       NaN   \n",
       "...      ...        ...        ...        ...        ...       ...       ...   \n",
       "16165  16166  27.890003  43.180482  27.891003  43.180982       NaN       NaN   \n",
       "16166  16167  27.890003  43.179982  27.891003  43.180482       NaN       NaN   \n",
       "16167  16168  27.890003  43.179482  27.891003  43.179982       NaN       NaN   \n",
       "16168  16169  27.890003  43.178982  27.891003  43.179482       NaN       NaN   \n",
       "16169  16170  27.890003  43.178482  27.891003  43.178982       NaN       NaN   \n",
       "\n",
       "       SAMPLE_3  SAMPLE_4  \n",
       "0           NaN       NaN  \n",
       "1           NaN       NaN  \n",
       "2           NaN       NaN  \n",
       "3           NaN       NaN  \n",
       "4           NaN       NaN  \n",
       "...         ...       ...  \n",
       "16165       NaN       NaN  \n",
       "16166       NaN       NaN  \n",
       "16167       NaN       NaN  \n",
       "16168       NaN       NaN  \n",
       "16169       NaN       NaN  \n",
       "\n",
       "[16170 rows x 9 columns]"
      ]
     },
     "execution_count": 7,
     "metadata": {},
     "output_type": "execute_result"
    }
   ],
   "source": [
    "df"
   ]
  },
  {
   "cell_type": "code",
   "execution_count": 8,
   "id": "9bfe431a-7cb1-4a31-b6f1-2be7e97efb9d",
   "metadata": {},
   "outputs": [],
   "source": [
    "# Number of samples (choose as needed)\n",
    "num_samples = 256\n",
    "sampled_colors = np.array([colorscale(i / (num_samples - 1)) for i in range(num_samples)])\n",
    "# Convert RGBA to RGB\n",
    "rgb_colors = sampled_colors[:, :3]"
   ]
  },
  {
   "cell_type": "code",
   "execution_count": 9,
   "id": "8144f3b6-26bb-4514-b63c-c8406c834bf8",
   "metadata": {},
   "outputs": [
    {
     "data": {
      "text/plain": [
       "array([0.03490965, 0.86920415, 0.87996924])"
      ]
     },
     "execution_count": 9,
     "metadata": {},
     "output_type": "execute_result"
    }
   ],
   "source": [
    "rgb_colors[-2]"
   ]
  },
  {
   "cell_type": "code",
   "execution_count": 10,
   "id": "23dfdc3b-9bc0-46be-92c4-d6d76c523080",
   "metadata": {},
   "outputs": [],
   "source": [
    "# Define a function to map colors to depth using the colorscale\n",
    "def color_to_depth(rgb):\n",
    "    depth = griddata(rgb_colors, np.linspace(0,25,256), rgb, method='nearest')\n",
    "    return depth"
   ]
  },
  {
   "cell_type": "code",
   "execution_count": 11,
   "id": "a4a5ddf0-c060-40d9-9e6c-19ede1f83e88",
   "metadata": {},
   "outputs": [],
   "source": [
    "df1 = df.dropna()"
   ]
  },
  {
   "cell_type": "code",
   "execution_count": 121,
   "id": "92b76547-435d-4105-95b1-978ab91cc85e",
   "metadata": {
    "collapsed": true,
    "jupyter": {
     "outputs_hidden": true
    },
    "scrolled": true
   },
   "outputs": [
    {
     "data": {
      "text/html": [
       "<div>\n",
       "<style scoped>\n",
       "    .dataframe tbody tr th:only-of-type {\n",
       "        vertical-align: middle;\n",
       "    }\n",
       "\n",
       "    .dataframe tbody tr th {\n",
       "        vertical-align: top;\n",
       "    }\n",
       "\n",
       "    .dataframe thead th {\n",
       "        text-align: right;\n",
       "    }\n",
       "</style>\n",
       "<table border=\"1\" class=\"dataframe\">\n",
       "  <thead>\n",
       "    <tr style=\"text-align: right;\">\n",
       "      <th></th>\n",
       "      <th>id</th>\n",
       "      <th>left</th>\n",
       "      <th>top</th>\n",
       "      <th>right</th>\n",
       "      <th>bottom</th>\n",
       "      <th>SAMPLE_1</th>\n",
       "      <th>SAMPLE_2</th>\n",
       "      <th>SAMPLE_3</th>\n",
       "      <th>SAMPLE_4</th>\n",
       "      <th>depth</th>\n",
       "    </tr>\n",
       "  </thead>\n",
       "  <tbody>\n",
       "    <tr>\n",
       "      <th>110</th>\n",
       "      <td>111</td>\n",
       "      <td>27.647003</td>\n",
       "      <td>43.188982</td>\n",
       "      <td>27.648003</td>\n",
       "      <td>43.189482</td>\n",
       "      <td>175.0</td>\n",
       "      <td>37.0</td>\n",
       "      <td>1.0</td>\n",
       "      <td>255.0</td>\n",
       "      <td>10.0</td>\n",
       "    </tr>\n",
       "    <tr>\n",
       "      <th>111</th>\n",
       "      <td>112</td>\n",
       "      <td>27.647003</td>\n",
       "      <td>43.188482</td>\n",
       "      <td>27.648003</td>\n",
       "      <td>43.188982</td>\n",
       "      <td>184.0</td>\n",
       "      <td>24.0</td>\n",
       "      <td>8.0</td>\n",
       "      <td>255.0</td>\n",
       "      <td>10.0</td>\n",
       "    </tr>\n",
       "    <tr>\n",
       "      <th>116</th>\n",
       "      <td>117</td>\n",
       "      <td>27.647003</td>\n",
       "      <td>43.185982</td>\n",
       "      <td>27.648003</td>\n",
       "      <td>43.186482</td>\n",
       "      <td>145.0</td>\n",
       "      <td>50.0</td>\n",
       "      <td>56.0</td>\n",
       "      <td>255.0</td>\n",
       "      <td>10.0</td>\n",
       "    </tr>\n",
       "    <tr>\n",
       "      <th>117</th>\n",
       "      <td>118</td>\n",
       "      <td>27.647003</td>\n",
       "      <td>43.185482</td>\n",
       "      <td>27.648003</td>\n",
       "      <td>43.185982</td>\n",
       "      <td>138.0</td>\n",
       "      <td>60.0</td>\n",
       "      <td>56.0</td>\n",
       "      <td>255.0</td>\n",
       "      <td>10.0</td>\n",
       "    </tr>\n",
       "    <tr>\n",
       "      <th>175</th>\n",
       "      <td>176</td>\n",
       "      <td>27.648003</td>\n",
       "      <td>43.189482</td>\n",
       "      <td>27.649003</td>\n",
       "      <td>43.189982</td>\n",
       "      <td>204.0</td>\n",
       "      <td>149.0</td>\n",
       "      <td>32.0</td>\n",
       "      <td>255.0</td>\n",
       "      <td>10.0</td>\n",
       "    </tr>\n",
       "    <tr>\n",
       "      <th>...</th>\n",
       "      <td>...</td>\n",
       "      <td>...</td>\n",
       "      <td>...</td>\n",
       "      <td>...</td>\n",
       "      <td>...</td>\n",
       "      <td>...</td>\n",
       "      <td>...</td>\n",
       "      <td>...</td>\n",
       "      <td>...</td>\n",
       "      <td>...</td>\n",
       "    </tr>\n",
       "    <tr>\n",
       "      <th>16119</th>\n",
       "      <td>16120</td>\n",
       "      <td>27.890003</td>\n",
       "      <td>43.203482</td>\n",
       "      <td>27.891003</td>\n",
       "      <td>43.203982</td>\n",
       "      <td>171.0</td>\n",
       "      <td>19.0</td>\n",
       "      <td>14.0</td>\n",
       "      <td>255.0</td>\n",
       "      <td>10.0</td>\n",
       "    </tr>\n",
       "    <tr>\n",
       "      <th>16120</th>\n",
       "      <td>16121</td>\n",
       "      <td>27.890003</td>\n",
       "      <td>43.202982</td>\n",
       "      <td>27.891003</td>\n",
       "      <td>43.203482</td>\n",
       "      <td>175.0</td>\n",
       "      <td>6.0</td>\n",
       "      <td>9.0</td>\n",
       "      <td>255.0</td>\n",
       "      <td>10.0</td>\n",
       "    </tr>\n",
       "    <tr>\n",
       "      <th>16121</th>\n",
       "      <td>16122</td>\n",
       "      <td>27.890003</td>\n",
       "      <td>43.202482</td>\n",
       "      <td>27.891003</td>\n",
       "      <td>43.202982</td>\n",
       "      <td>217.0</td>\n",
       "      <td>9.0</td>\n",
       "      <td>7.0</td>\n",
       "      <td>255.0</td>\n",
       "      <td>10.0</td>\n",
       "    </tr>\n",
       "    <tr>\n",
       "      <th>16123</th>\n",
       "      <td>16124</td>\n",
       "      <td>27.890003</td>\n",
       "      <td>43.201482</td>\n",
       "      <td>27.891003</td>\n",
       "      <td>43.201982</td>\n",
       "      <td>211.0</td>\n",
       "      <td>110.0</td>\n",
       "      <td>20.0</td>\n",
       "      <td>255.0</td>\n",
       "      <td>10.0</td>\n",
       "    </tr>\n",
       "    <tr>\n",
       "      <th>16124</th>\n",
       "      <td>16125</td>\n",
       "      <td>27.890003</td>\n",
       "      <td>43.200982</td>\n",
       "      <td>27.891003</td>\n",
       "      <td>43.201482</td>\n",
       "      <td>146.0</td>\n",
       "      <td>33.0</td>\n",
       "      <td>3.0</td>\n",
       "      <td>255.0</td>\n",
       "      <td>10.0</td>\n",
       "    </tr>\n",
       "  </tbody>\n",
       "</table>\n",
       "<p>3518 rows × 10 columns</p>\n",
       "</div>"
      ],
      "text/plain": [
       "          id       left        top      right     bottom  SAMPLE_1  SAMPLE_2  \\\n",
       "110      111  27.647003  43.188982  27.648003  43.189482     175.0      37.0   \n",
       "111      112  27.647003  43.188482  27.648003  43.188982     184.0      24.0   \n",
       "116      117  27.647003  43.185982  27.648003  43.186482     145.0      50.0   \n",
       "117      118  27.647003  43.185482  27.648003  43.185982     138.0      60.0   \n",
       "175      176  27.648003  43.189482  27.649003  43.189982     204.0     149.0   \n",
       "...      ...        ...        ...        ...        ...       ...       ...   \n",
       "16119  16120  27.890003  43.203482  27.891003  43.203982     171.0      19.0   \n",
       "16120  16121  27.890003  43.202982  27.891003  43.203482     175.0       6.0   \n",
       "16121  16122  27.890003  43.202482  27.891003  43.202982     217.0       9.0   \n",
       "16123  16124  27.890003  43.201482  27.891003  43.201982     211.0     110.0   \n",
       "16124  16125  27.890003  43.200982  27.891003  43.201482     146.0      33.0   \n",
       "\n",
       "       SAMPLE_3  SAMPLE_4  depth  \n",
       "110         1.0     255.0   10.0  \n",
       "111         8.0     255.0   10.0  \n",
       "116        56.0     255.0   10.0  \n",
       "117        56.0     255.0   10.0  \n",
       "175        32.0     255.0   10.0  \n",
       "...         ...       ...    ...  \n",
       "16119      14.0     255.0   10.0  \n",
       "16120       9.0     255.0   10.0  \n",
       "16121       7.0     255.0   10.0  \n",
       "16123      20.0     255.0   10.0  \n",
       "16124       3.0     255.0   10.0  \n",
       "\n",
       "[3518 rows x 10 columns]"
      ]
     },
     "execution_count": 121,
     "metadata": {},
     "output_type": "execute_result"
    }
   ],
   "source": [
    "df1"
   ]
  },
  {
   "cell_type": "code",
   "execution_count": 12,
   "id": "3d971e43-6d86-45d8-8d1e-2424e56b8aee",
   "metadata": {},
   "outputs": [],
   "source": [
    "rgb_varna = df1[['SAMPLE_1', 'SAMPLE_2', 'SAMPLE_3']].to_numpy()"
   ]
  },
  {
   "cell_type": "code",
   "execution_count": 13,
   "id": "e6ea2267-7cf1-44f6-a4a1-35adb6211c4a",
   "metadata": {},
   "outputs": [
    {
     "data": {
      "text/plain": [
       "array([238., 205.,  38.])"
      ]
     },
     "execution_count": 13,
     "metadata": {},
     "output_type": "execute_result"
    }
   ],
   "source": [
    "rgb_varna[600]"
   ]
  },
  {
   "cell_type": "code",
   "execution_count": 14,
   "id": "a8ec20d8-a7b1-4544-894c-6ca9b88abdf5",
   "metadata": {},
   "outputs": [
    {
     "data": {
      "text/plain": [
       "array([10., 10., 10., ..., 10., 10., 10.])"
      ]
     },
     "execution_count": 14,
     "metadata": {},
     "output_type": "execute_result"
    }
   ],
   "source": [
    "color_to_depth(rgb_varna)"
   ]
  },
  {
   "cell_type": "code",
   "execution_count": 15,
   "id": "7284d96b-5919-4461-8393-80314cf2b2dc",
   "metadata": {},
   "outputs": [],
   "source": [
    "depth = color_to_depth(rgb_varna)"
   ]
  },
  {
   "cell_type": "code",
   "execution_count": 16,
   "id": "78a33186-461c-475f-b61d-8b79668c5f1c",
   "metadata": {},
   "outputs": [
    {
     "data": {
      "text/plain": [
       "20.0"
      ]
     },
     "execution_count": 16,
     "metadata": {},
     "output_type": "execute_result"
    }
   ],
   "source": [
    "depth.max()"
   ]
  },
  {
   "cell_type": "code",
   "execution_count": 17,
   "id": "2d3313d9-8813-43f2-88eb-47849977b63e",
   "metadata": {},
   "outputs": [
    {
     "name": "stderr",
     "output_type": "stream",
     "text": [
      "C:\\Users\\ABE\\AppData\\Local\\Temp\\ipykernel_25512\\166878122.py:1: SettingWithCopyWarning: \n",
      "A value is trying to be set on a copy of a slice from a DataFrame.\n",
      "Try using .loc[row_indexer,col_indexer] = value instead\n",
      "\n",
      "See the caveats in the documentation: https://pandas.pydata.org/pandas-docs/stable/user_guide/indexing.html#returning-a-view-versus-a-copy\n",
      "  df1['depth'] = depth\n"
     ]
    }
   ],
   "source": [
    "df1['depth'] = depth"
   ]
  },
  {
   "cell_type": "code",
   "execution_count": 18,
   "id": "1e436d7e-b131-4d37-a7e7-81c7c0c5f00b",
   "metadata": {
    "scrolled": true
   },
   "outputs": [
    {
     "data": {
      "text/plain": [
       "<matplotlib.collections.PathCollection at 0x170afcaceb0>"
      ]
     },
     "execution_count": 18,
     "metadata": {},
     "output_type": "execute_result"
    },
    {
     "data": {
      "image/png": "[encoded data removed]",
      "text/plain": [
       "<Figure size 640x480 with 1 Axes>"
      ]
     },
     "metadata": {},
     "output_type": "display_data"
    }
   ],
   "source": [
    "plt.scatter(df1['left'], df1['top'], c=df1['depth'], cmap='turbo')"
   ]
  },
  {
   "cell_type": "code",
   "execution_count": 19,
   "id": "2a38b2b5-0e7e-4361-add2-2ec90e0c4a9b",
   "metadata": {
    "scrolled": true
   },
   "outputs": [
    {
     "name": "stderr",
     "output_type": "stream",
     "text": [
      "C:\\Users\\ABE\\AppData\\Local\\Temp\\ipykernel_25512\\1863388123.py:19: DeprecationWarning: Conversion of an array with ndim > 0 to a scalar is deprecated, and will error in future. Ensure you extract a single element from your array before performing this operation. (Deprecated NumPy 1.25.)\n",
      "  depth_map[y, x] = depth\n"
     ]
    },
    {
     "name": "stdout",
     "output_type": "stream",
     "text": [
      "0\n",
      "1\n",
      "2\n",
      "3\n",
      "4\n",
      "5\n",
      "6\n",
      "7\n",
      "8\n",
      "9\n",
      "10\n",
      "11\n",
      "12\n",
      "13\n",
      "14\n",
      "15\n",
      "16\n",
      "17\n",
      "18\n",
      "19\n",
      "20\n",
      "21\n",
      "22\n",
      "23\n",
      "24\n",
      "25\n",
      "26\n",
      "27\n",
      "28\n",
      "29\n",
      "30\n",
      "31\n",
      "32\n",
      "33\n",
      "34\n",
      "35\n",
      "36\n",
      "37\n",
      "38\n",
      "39\n",
      "40\n",
      "41\n",
      "42\n",
      "43\n",
      "44\n",
      "45\n",
      "46\n",
      "47\n",
      "48\n",
      "49\n",
      "50\n",
      "51\n",
      "52\n",
      "53\n",
      "54\n",
      "55\n",
      "56\n",
      "57\n",
      "58\n",
      "59\n",
      "60\n",
      "61\n",
      "62\n",
      "63\n",
      "64\n",
      "65\n",
      "66\n",
      "67\n",
      "68\n",
      "69\n",
      "70\n",
      "71\n",
      "72\n",
      "73\n",
      "74\n",
      "75\n",
      "76\n",
      "77\n",
      "78\n",
      "79\n",
      "80\n",
      "81\n",
      "82\n",
      "83\n",
      "84\n",
      "85\n",
      "86\n",
      "87\n",
      "88\n",
      "89\n",
      "90\n",
      "91\n",
      "92\n",
      "93\n",
      "94\n",
      "95\n",
      "96\n",
      "97\n",
      "98\n",
      "99\n",
      "100\n",
      "101\n",
      "102\n",
      "103\n",
      "104\n",
      "105\n",
      "106\n",
      "107\n",
      "108\n",
      "109\n",
      "110\n",
      "111\n",
      "112\n",
      "113\n",
      "114\n",
      "115\n",
      "116\n",
      "117\n",
      "118\n",
      "119\n",
      "120\n",
      "121\n",
      "122\n",
      "123\n",
      "124\n",
      "125\n"
     ]
    }
   ],
   "source": [
    "# Read the georeferenced image\n",
    "with rasterio.open('Varna_georef_clipped.tiff') as src:\n",
    "    image = src.read()\n",
    "    profile = src.profile\n",
    "\n",
    "# Get dimensions\n",
    "height, width = image.shape[1], image.shape[2]\n",
    "\n",
    "# Initialize the depth map\n",
    "depth_map = np.empty((height, width))\n",
    "\n",
    "# Process each pixel to convert RGB to depth\n",
    "for y in range(height):\n",
    "    for x in range(width):\n",
    "        pixel = image[:, y, x][:3]\n",
    "        if sum(pixel) > 240*3:\n",
    "            continue\n",
    "        depth = color_to_depth(pixel)\n",
    "        depth_map[y, x] = depth\n",
    "    print(y)"
   ]
  },
  {
   "cell_type": "code",
   "execution_count": 20,
   "id": "46ead828-0cdb-4f25-8288-738c0391f477",
   "metadata": {},
   "outputs": [
    {
     "data": {
      "text/plain": [
       "20.0"
      ]
     },
     "execution_count": 20,
     "metadata": {},
     "output_type": "execute_result"
    }
   ],
   "source": [
    "depth_map.max()"
   ]
  },
  {
   "cell_type": "code",
   "execution_count": 21,
   "id": "f80de66e-5313-4111-af70-ea91a3e4ff69",
   "metadata": {},
   "outputs": [],
   "source": [
    "depth_map_smooth = gaussian_filter(-np.flip(depth_map, 0), (5,5))"
   ]
  },
  {
   "cell_type": "code",
   "execution_count": 22,
   "id": "f179b5a7-d5d0-4e43-aa63-d494bcece934",
   "metadata": {},
   "outputs": [],
   "source": [
    "depth_map_smooth[depth_map_smooth > -1] = 0"
   ]
  },
  {
   "cell_type": "code",
   "execution_count": 50,
   "id": "5cf7fe05-2224-47f0-9b0b-392c6a572309",
   "metadata": {},
   "outputs": [],
   "source": [
    "depth_map_reduced = depth_map_smooth[::-3,::8]"
   ]
  },
  {
   "cell_type": "code",
   "execution_count": 53,
   "id": "9587e313-1bb6-40b8-a675-ce44cbde12ab",
   "metadata": {},
   "outputs": [],
   "source": [
    "depth_map_extended = np.hstack([depth_map_reduced, np.zeros((depth_map_reduced.shape[0], 30))])"
   ]
  },
  {
   "cell_type": "code",
   "execution_count": 55,
   "id": "27d172fe-134a-418e-8b2f-2aeec43c4ad9",
   "metadata": {},
   "outputs": [
    {
     "data": {
      "text/plain": [
       "(42, 149)"
      ]
     },
     "execution_count": 55,
     "metadata": {},
     "output_type": "execute_result"
    }
   ],
   "source": [
    "depth_map_extended.shape"
   ]
  },
  {
   "cell_type": "code",
   "execution_count": 56,
   "id": "f87a7025-4d4e-4094-bcda-01ea20fe7113",
   "metadata": {},
   "outputs": [
    {
     "data": {
      "text/plain": [
       "(42, 119)"
      ]
     },
     "execution_count": 56,
     "metadata": {},
     "output_type": "execute_result"
    }
   ],
   "source": [
    "depth_map_reduced.shape"
   ]
  },
  {
   "cell_type": "code",
   "execution_count": 57,
   "id": "57bc0ef4-b536-47c0-a7e9-7353f035d428",
   "metadata": {},
   "outputs": [],
   "source": [
    "im = Image.fromarray(depth_map_extended)\n",
    "im.save(\"Varna_bathymetry.tiff\")"
   ]
  },
  {
   "cell_type": "code",
   "execution_count": 41,
   "id": "00ced76b-8e4f-4469-9251-36b7276f6607",
   "metadata": {},
   "outputs": [
    {
     "name": "stdout",
     "output_type": "stream",
     "text": [
      "Object `scipy.misc.toimage()` not found.\n"
     ]
    }
   ],
   "source": [
    "?scipy.misc.toimage()"
   ]
  },
  {
   "cell_type": "code",
   "execution_count": 31,
   "id": "cfa4c74b-8118-47a0-ab09-324d21919bff",
   "metadata": {},
   "outputs": [
    {
     "data": {
      "text/plain": [
       "0.20833333333333334"
      ]
     },
     "execution_count": 31,
     "metadata": {},
     "output_type": "execute_result"
    }
   ],
   "source": [
    "12.5/60"
   ]
  },
  {
   "cell_type": "code",
   "execution_count": 32,
   "id": "44dbe1c1-5b18-4ffe-897e-003290aa094b",
   "metadata": {},
   "outputs": [],
   "source": [
    "lons = np.linspace(27.6, 27.9, depth_map_reduced.shape[1])\n",
    "lats = np.linspace(43.18, 43.2, depth_map_reduced.shape[0])"
   ]
  },
  {
   "cell_type": "code",
   "execution_count": 33,
   "id": "7f0d9789-47fc-4838-8be1-61fa0ced599b",
   "metadata": {},
   "outputs": [],
   "source": [
    "lonm, latm = np.meshgrid(lons, lats)"
   ]
  },
  {
   "cell_type": "code",
   "execution_count": 35,
   "id": "cb010f64-4495-4919-bebf-2b15fb23eb73",
   "metadata": {},
   "outputs": [
    {
     "data": {
      "text/plain": [
       "(42, 119)"
      ]
     },
     "execution_count": 35,
     "metadata": {},
     "output_type": "execute_result"
    }
   ],
   "source": [
    "lonm.shape"
   ]
  },
  {
   "cell_type": "code",
   "execution_count": 36,
   "id": "5910f31a-0a72-4fc2-89fb-977ebfa21dc8",
   "metadata": {},
   "outputs": [],
   "source": [
    "df_out = pd.DataFrame({'lon': lonm.ravel(), 'lat': latm.ravel(), 'depth': depth_map_reduced.ravel()})"
   ]
  },
  {
   "cell_type": "code",
   "execution_count": 38,
   "id": "5ece7592-0e33-44cf-b0cb-325565f666f9",
   "metadata": {},
   "outputs": [],
   "source": [
    "df_out.to_csv('Varna_topo_coords.csv')"
   ]
  },
  {
   "cell_type": "code",
   "execution_count": 188,
   "id": "e1e57608-2736-486b-b5d2-e442834b4502",
   "metadata": {},
   "outputs": [
    {
     "data": {
      "image/png": "[encoded data removed]",
      "text/plain": [
       "<Figure size 1500x200 with 2 Axes>"
      ]
     },
     "metadata": {},
     "output_type": "display_data"
    }
   ],
   "source": [
    "fig, ax = plt.subplots(figsize=(15,2))\n",
    "plt.contourf(depth_map_smooth[::3,::8], cmap='turbo', levels=30)\n",
    "plt.colorbar()\n",
    "plt.savefig('Varna_bathymetry_raw.png', dpi=200)"
   ]
  },
  {
   "cell_type": "code",
   "execution_count": null,
   "id": "f8b01ca1-66aa-4366-ba72-f151973ee3ed",
   "metadata": {},
   "outputs": [],
   "source": [
    "fig, ax = plt.subplots(figsize=(15,2))\n",
    "plt.contourf(depth_map_smooth[::3,::8], cmap='turbo', levels=30)\n",
    "plt.colorbar()\n",
    "plt.savefig('Varna_bathymetry_raw.png', dpi=200)"
   ]
  },
  {
   "cell_type": "code",
   "execution_count": 189,
   "id": "8d41c755-02c1-4c96-b45c-0f12bb81b485",
   "metadata": {},
   "outputs": [],
   "source": [
    "np.savetxt('Varna_topo_smooth.txt', depth_map_smooth[::3,::8], fmt='%.4f')"
   ]
  },
  {
   "cell_type": "code",
   "execution_count": null,
   "id": "bb433320-8460-4043-a25c-ec86a6c99309",
   "metadata": {},
   "outputs": [],
   "source": []
  }
 ],
 "metadata": {
  "kernelspec": {
   "display_name": "Python 3 (ipykernel)",
   "language": "python",
   "name": "python3"
  },
  "language_info": {
   "codemirror_mode": {
    "name": "ipython",
    "version": 3
   },
   "file_extension": ".py",
   "mimetype": "text/x-python",
   "name": "python",
   "nbconvert_exporter": "python",
   "pygments_lexer": "ipython3",
   "version": "3.10.13"
  }
 },
 "nbformat": 4,
 "nbformat_minor": 5
}
